{
 "cells": [
  {
   "cell_type": "markdown",
   "id": "8cf6d330-d744-4b0f-b80c-56acd1d4ec37",
   "metadata": {},
   "source": [
    "# Data Science Tools and Ecosystem"
   ]
  },
  {
   "cell_type": "markdown",
   "id": "eb331a1c-ed29-44dd-ac03-47a6e99b9134",
   "metadata": {},
   "source": [
    "In this notebook, Data Science Tools and Ecosystem are summarized."
   ]
  },
  {
   "cell_type": "markdown",
   "id": "45ae52ec-1d60-475a-8520-1ee47b9bcba7",
   "metadata": {},
   "source": [
    "Some of the popular languages that Data Scientists use are:\n",
    "1. Python\n",
    "2. R\n",
    "3. SQL"
   ]
  },
  {
   "cell_type": "markdown",
   "id": "d01b1c0f-f3c6-4475-b557-d8ddaadf92ab",
   "metadata": {},
   "source": [
    "Some of the commonly used libraries used by Data Scientists include:\n",
    "1. Pandas\n",
    "2. Numpy\n",
    "3. Matplotlib\n",
    "4. Seaborn"
   ]
  },
  {
   "cell_type": "markdown",
   "id": "ba851525-3937-43c3-aa2c-8da8f7f2b70b",
   "metadata": {},
   "source": [
    "| Data Science Tools |\n",
    "------------------\n",
    "| GitHub |\n",
    "| RStudio |\n",
    "| JupyterNotebook |"
   ]
  },
  {
   "cell_type": "markdown",
   "id": "b67495fd-da7e-4c62-9711-8fb4e5876982",
   "metadata": {
    "tags": []
   },
   "source": [
    "### Below are a few examples of evaluating arithmetic expressions in Python"
   ]
  },
  {
   "cell_type": "code",
   "execution_count": 1,
   "id": "b5174c67-3d2c-4980-b710-79e3a43b39ef",
   "metadata": {
    "tags": []
   },
   "outputs": [
    {
     "data": {
      "text/plain": [
       "17"
      ]
     },
     "execution_count": 1,
     "metadata": {},
     "output_type": "execute_result"
    }
   ],
   "source": [
    "#This a simple arithmetic expression to multiply then add integers\n",
    "\n",
    "(3*4)+5"
   ]
  },
  {
   "cell_type": "code",
   "execution_count": 3,
   "id": "32408818-5181-47cf-972c-c19f4e604b59",
   "metadata": {
    "tags": []
   },
   "outputs": [
    {
     "name": "stdout",
     "output_type": "stream",
     "text": [
      "3.3333333333333335\n"
     ]
    }
   ],
   "source": [
    "#This will convert 200 minutes to hours by dividing by 60\n",
    "\n",
    "min = 200\n",
    "hours = min / 60\n",
    "print(hours)"
   ]
  },
  {
   "cell_type": "markdown",
   "id": "9426b23a-1a8d-42ed-8b20-e1c14c3d0a4f",
   "metadata": {},
   "source": [
    "Objectives:\n",
    "- List popular languages for Data Science\n",
    "- List of commonly use libraries in Data Science\n",
    "- Table of popular data science tools"
   ]
  },
  {
   "cell_type": "markdown",
   "id": "4ad0edd0-9996-4dbc-886b-44b0e674cbc6",
   "metadata": {},
   "source": [
    "## Author\n",
    "Haowei Wong"
   ]
  },
  {
   "cell_type": "code",
   "execution_count": null,
   "id": "d2b242b5-d91e-4bbf-b086-aa2cb9b2c802",
   "metadata": {},
   "outputs": [],
   "source": []
  }
 ],
 "metadata": {
  "kernelspec": {
   "display_name": "Python",
   "language": "python",
   "name": "conda-env-python-py"
  },
  "language_info": {
   "codemirror_mode": {
    "name": "ipython",
    "version": 3
   },
   "file_extension": ".py",
   "mimetype": "text/x-python",
   "name": "python",
   "nbconvert_exporter": "python",
   "pygments_lexer": "ipython3",
   "version": "3.7.12"
  }
 },
 "nbformat": 4,
 "nbformat_minor": 5
}
